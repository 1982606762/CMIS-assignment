{
 "cells": [
  {
   "attachments": {},
   "cell_type": "markdown",
   "metadata": {
    "pycharm": {
     "name": "#%% md\n"
    }
   },
   "source": [
    "# Computational Methods in Simulation (CMIS) Week 3\n",
    "This notebook is intended to help students make their hand-in in this week of CMIS.\n",
    "\n",
    "\n",
    "Hand-ins must be submitted as a maximum 3 page pdf file in Absalon and must be made using the ACM TOG overleaf latex template\n",
    "\n",
    "https://www.overleaf.com/latex/templates/association-for-computing-machinery-acm-large-2-column-format-template/qwcgpbmkkvpq\n",
    "\n",
    "Notebooks must be uploaded as well so teachers have code solutions accessible if needed."
   ]
  },
  {
   "attachments": {},
   "cell_type": "markdown",
   "metadata": {
    "pycharm": {
     "name": "#%% md\n"
    }
   },
   "source": [
    "This week is based on Slides 6 - follow the detailed steps below to learn about mesh representations as well as meash quality measures:\n",
    "\n",
    "* Explain how a mesh is represented and create a function that can generate a 2D traingle mesh for a beam (large rectangle) shape\n",
    "* Apply a third-party meshing tool such as tetgen, wildmeshing or similar to a simple 2D case.\n",
    "* Apply a 3D meshing tool such as TetGen or wildmeshing or similar to a 3D surface mesh such as 'armadillo.obj'\n",
    "* Identify two or more quality measures from the Shewchuck paper that you believe will be good measures for a linear tetrahedral mesh. Explain pros and cons of your choosen measures (Hint: We provide functions for computing inscribed/circumscriped spheres as well as signed volume).\n",
    "* Implement the chosen quality measures and create a tool for plotting quality historgrams.\n",
    "* Compute your chosen quality measures for the 3D volume mesh you generate and display histograms of them. Discuss the histograms, what do they tell you about the mesh you generated?\n",
    "* Implement the marching triangle method (as described in Slides 6) and identify \"bad\" or \"wrong\" triangles created by the method. Discuss the cause of these cases and if time permit develop an improved version of the method (Hint: reuse your signed distance field code from Week 2).  \n"
   ]
  },
  {
   "attachments": {},
   "cell_type": "markdown",
   "metadata": {
    "pycharm": {
     "name": "#%% md\n"
    }
   },
   "source": [
    "## Detailed Expected Learning Objectives in The Hand-in of this Week\n",
    "\n",
    "* Computational Meshing (Slides 6)\n",
    "    * Explain common mesh quality measures.\n",
    "    * Implement a simple computational mesh generator.\n",
    "    * Generate computational quality meshes using 3rd party software such as DistMesh, TetGen or similar.\n",
    "    * Experimentally evaluate whether a given computational mesh is a quality mesh."
   ]
  },
  {
   "attachments": {},
   "cell_type": "markdown",
   "metadata": {
    "pycharm": {
     "name": "#%% md\n"
    }
   },
   "source": [
    "## Mesh Representations\n",
    "\n",
    "In this work we use the face-indexed array representation for storing a unstructured mesh. That is a triangle mesh. One may find a short description of mesh descriptions from the libigl library\n",
    "\n",
    "https://libigl.github.io/libigl-python-bindings/tutorials/\n",
    "\n",
    "For our 3D meshing examples we may make use of the wildmeshing library for both 3D and 2D meshing\n",
    "\n",
    "https://wildmeshing.github.io/wildmeshing-notebook/\n",
    "\n",
    "Further, We provide two of our own primitive 2D meshing methods."
   ]
  },
  {
   "cell_type": "code",
   "execution_count": 2,
   "metadata": {
    "pycharm": {
     "name": "#%%\n"
    }
   },
   "outputs": [],
   "source": [
    "%matplotlib widget"
   ]
  },
  {
   "cell_type": "code",
   "execution_count": 3,
   "metadata": {
    "pycharm": {
     "name": "#%%\n"
    }
   },
   "outputs": [],
   "source": [
    "# import igl\n",
    "import meshplot as mp\n",
    "import numpy as np\n",
    "# import wildmeshing as wm\n",
    "import matplotlib.pyplot as plt"
   ]
  },
  {
   "attachments": {},
   "cell_type": "markdown",
   "metadata": {
    "pycharm": {
     "name": "#%% md\n"
    }
   },
   "source": [
    "For starters we will show an example of how to directly generate a beam mesh.\n",
    "\n",
    "The idea is to make the beam on a regular back ground grid. In a first sweep over grid nodes we create the vertices of the beam mesh. In a second sweep over the cells of the regular grid we will create triangles. \n",
    "\n",
    "To avoid having any bias from mesh connectivity we choose to flip the diagonals of the grid cells. This way we get a very homogenous looking triangle mesh with similar shaped triangles that are close to being equilateral."
   ]
  },
  {
   "cell_type": "code",
   "execution_count": null,
   "metadata": {
    "pycharm": {
     "name": "#%%\n"
    }
   },
   "outputs": [],
   "source": [
    "def make_beam_mesh(width, height, shape):\n",
    "    x0 = -width/2.0\n",
    "    y0 = -height/2.0\n",
    "    I  = shape[0]\n",
    "    J  = shape[1]\n",
    "    dx = width/float(I)\n",
    "    dy = height/float(J)\n",
    "    V = np.zeros(((I+1)*(J+1),2),dtype=np.float64)\n",
    "    for j in range(J+1):\n",
    "        for i in range(I+1):\n",
    "            k = i + j*(I+1)\n",
    "            V[k,0] = x0 + i*dx\n",
    "            V[k,1] = y0 + j*dy\n",
    "    T = np.zeros((2*I*J,3),dtype=np.int32)\n",
    "    for j in range(J):\n",
    "        for i in range(I):\n",
    "            k00 = (i  ) + (j  )*(I+1)\n",
    "            k01 = (i+1) + (j  )*(I+1)\n",
    "            k10 = (i  ) + (j+1)*(I+1)\n",
    "            k11 = (i+1) + (j+1)*(I+1)\n",
    "            e = 2*(i + j*I)\n",
    "            if (i+j)%2:\n",
    "                T[e,  :] = (k00,k01,k11)\n",
    "                T[e+1,:] = (k00,k11,k10)\n",
    "            else:\n",
    "                T[e,  :] = (k10,k00,k01)\n",
    "                T[e+1,:] = (k10,k01,k11)                    \n",
    "    return V, T\n",
    "\n",
    "V, T = make_beam_mesh(2.0,1.0,(12,6))\n",
    "\n",
    "p = mp.plot(V, T, return_plot=True, shading={\"wireframe\": True})"
   ]
  },
  {
   "attachments": {},
   "cell_type": "markdown",
   "metadata": {
    "pycharm": {
     "name": "#%% md\n"
    }
   },
   "source": [
    "Next we will show an example using the wildmeshing library to generate a triangle mesh from a polygon boundary. "
   ]
  },
  {
   "cell_type": "code",
   "execution_count": null,
   "metadata": {
    "pycharm": {
     "name": "#%%\n"
    }
   },
   "outputs": [],
   "source": [
    "# Documentation is here https://wildmeshing.github.io/wildmeshing-notebook/\n",
    "def make_circle_mesh(radius, segments):\n",
    "    K = segments\n",
    "    X = np.array([ radius*np.cos(2*np.pi*k/K) for k in range(K)])\n",
    "    Y = np.array([ radius*np.sin(2*np.pi*k/K) for k in range(K)])\n",
    "    P = np.zeros((K,2))\n",
    "    P[:,0] = X\n",
    "    P[:,1] = Y\n",
    "    L = np.array([(k,(k+1)%K) for k in range(K)],dtype=np.int32)\n",
    "    V, T, _, _ = wm.triangulate_data(P, L, cut_outside=True)\n",
    "    return (V, T)\n",
    "\n",
    "V, T = make_circle_mesh(0.75, 36)\n",
    "p = mp.plot(V, T, return_plot=True, shading={\"wireframe\": True})"
   ]
  },
  {
   "attachments": {},
   "cell_type": "markdown",
   "metadata": {
    "pycharm": {
     "name": "#%% md\n"
    }
   },
   "source": [
    "# Quality Measures\n",
    "\n",
    "We have identified 4 quality measures for linear tetrahedral meshes. We implement simple functions that given one element can compute its quality measure.\n",
    "\n",
    "For computing quality measures it is helpful to be able to compute the signed volume of a tetrahedron, test if is left oriented, circumscribed and inscriped spheres."
   ]
  },
  {
   "cell_type": "code",
   "execution_count": null,
   "metadata": {
    "pycharm": {
     "name": "#%%\n"
    }
   },
   "outputs": [],
   "source": [
    "def compute_signed_volume(pi, pj, pk, pm):\n",
    "    return np.dot((pm - pi), np.cross((pj - pi), (pk - pi))) / 6.0\n",
    "\n",
    "def find_longest_edge(pi,pj,pk,pm):\n",
    "    # find the longest edge of the tetrahedron\n",
    "    # return the value of the longest edge\n",
    "    return np.max([np.linalg.norm(pi-pj),np.linalg.norm(pi-pk),np.linalg.norm(pi-pm),np.linalg.norm(pj-pk),np.linalg.norm(pj-pm),np.linalg.norm(pk-pm)])\n",
    "\n",
    "def find_mean_edge_length(pi,pj,pk,pm):\n",
    "    # find the mean edge length of the tetrahedron\n",
    "    # return the value of the mean edge length\n",
    "    return np.mean([np.linalg.norm(pi-pj),np.linalg.norm(pi-pk),np.linalg.norm(pi-pm),np.linalg.norm(pj-pk),np.linalg.norm(pj-pm),np.linalg.norm(pk-pm)])\n",
    "\n",
    "def is_left_orientation(pi, pj, pk, pm):\n",
    "    return compute_signed_volume(pi, pj, pk, pm) < 0.0\n",
    "\n",
    "def compute_circumscribed_sphere(p0, p1, p2, p3):\n",
    "    A = p0 - p3\n",
    "    B = p1 - p3\n",
    "    C = p2 - p3\n",
    "\n",
    "    M00 = np.dot(A, A)\n",
    "    M01 = np.dot(A, B)\n",
    "    M02 = np.dot(A, C)\n",
    "    M10 = np.dot(B, A)\n",
    "    M11 = np.dot(B, B)\n",
    "    M12 = np.dot(B, C)\n",
    "    M20 = np.dot(C, A)\n",
    "    M21 = np.dot(C, B)\n",
    "    M22 = np.dot(C, C)\n",
    "\n",
    "    M = np.array([[M00, M01, M02], [M10, M11, M12], [M20, M21, M22]], dtype=np.float64)\n",
    "    q = 0.5 * np.array([M00, M11, M22], dtype=np.float64)\n",
    "    \n",
    "    u = np.linalg.lstsq(M, q, rcond=None)[0]\n",
    "\n",
    "    u0 = u[0]\n",
    "    u1 = u[1]\n",
    "    u2 = u[2]\n",
    "    u3 = 1.0 - u0 - u1 - u2\n",
    "\n",
    "    radius = np.linalg.norm(u0 * A + u1 * B + u2 * C)\n",
    "    center = u0 * p0 + u1 * p1 + u2 * p2 + u3 * p3\n",
    "\n",
    "    return center, radius\n",
    "\n",
    "\n",
    "def compute_inscribed_sphere(pi, pj, pk, pm):\n",
    "    nm = np.cross((pj - pi), (pk - pi))\n",
    "    ni = np.cross((pm - pj), (pk - pj))\n",
    "    nj = np.cross((pm - pk), (pi - pk))\n",
    "    nk = np.cross((pm - pi), (pj - pi))\n",
    "    Lnm = np.linalg.norm(nm)\n",
    "    Lni = np.linalg.norm(ni)\n",
    "    Lnj = np.linalg.norm(nj)\n",
    "    Lnk = np.linalg.norm(nk)\n",
    "    nm = nm / Lnm\n",
    "    ni = ni / Lni\n",
    "    nj = nj / Lnj\n",
    "    nk = nk / Lnk\n",
    "\n",
    "    wm = np.dot(nm, pi)\n",
    "    wi = np.dot(ni, pj)\n",
    "    wj = np.dot(nj, pk)\n",
    "    wk = np.dot(nk, pi)\n",
    "\n",
    "    M00 = nm[0]\n",
    "    M01 = nm[1]\n",
    "    M02 = nm[2]\n",
    "    M03 = -1.0\n",
    "\n",
    "    M10 = ni[0]\n",
    "    M11 = ni[1]\n",
    "    M12 = ni[2]\n",
    "    M13 = -1.0\n",
    "\n",
    "    M20 = nj[0]\n",
    "    M21 = nj[1]\n",
    "    M22 = nj[2]\n",
    "    M23 = -1.0\n",
    "\n",
    "    M30 = nk[0]\n",
    "    M31 = nk[1]\n",
    "    M32 = nk[2]\n",
    "    M33 = -1.0\n",
    "\n",
    "    A = np.array([[M00, M01, M02, M03], [M10, M11, M12, M13], [M20, M21, M22, M23], [M30, M31, M32, M33]],\n",
    "                 dtype=np.float64)\n",
    "    b = np.array([wm, wi, wj, wk], dtype=np.float64)\n",
    "\n",
    "    x = np.linalg.lstsq(A, b, rcond=None)[0]\n",
    "\n",
    "    center = np.array( [x[0], x[1], x[2]], dtype=np.float64)\n",
    "    radius = x[3]\n",
    "\n",
    "    return center, radius"
   ]
  },
  {
   "cell_type": "code",
   "execution_count": null,
   "metadata": {},
   "outputs": [],
   "source": [
    "trtra = np.array([[ 0.109337  , -0.112088  , -0.165207  ],\n",
    "       [ 0.1131335 , -0.0986355 , -0.1604715 ],\n",
    "       [ 0.119948  , -0.08646957, -0.15038981],\n",
    "       [ 0.121026  , -0.108513  , -0.160688  ]])\n",
    "longest = find_longest_edge(trtra[0],trtra[1],trtra[2],trtra[3])\n",
    "print(longest)\n",
    "# should be 0.031"
   ]
  },
  {
   "attachments": {},
   "cell_type": "markdown",
   "metadata": {
    "pycharm": {
     "name": "#%% md\n"
    }
   },
   "source": [
    "Now we may implement our quality measures using these basic geometry functions"
   ]
  },
  {
   "cell_type": "code",
   "execution_count": null,
   "metadata": {
    "pycharm": {
     "name": "#%%\n"
    }
   },
   "outputs": [],
   "source": [
    "# TODO - identify two or more quality measures from the Shewchuck paper that you believe will be good \n",
    "# measures for a linear tetrahedral mesh and implement them below\n",
    "\n",
    "# 6 \\sqrt{2} \\frac{V}{\\ell_{\\mathrm{rms}}^3}\n",
    "def compute_quality_1(v,t):\n",
    "    quality = []\n",
    "    for i in range(t.shape[0]):\n",
    "        v = compute_signed_volume(v[t[i,0],:], v[t[i,1],:], v[t[i,2],:], v[t[i,3],:])\n",
    "        lmax = find_longest_edge(v[t[i,0],:], v[t[i,1],:], v[t[i,2],:], v[t[i,3],:])\n",
    "        quality.append(6*np.sqrt(2)*v/lmax**3)\n",
    "    return np.array(quality)\n",
    "    \n",
    "# 2 \\sqrt{6} \\frac{r_{\\text {in }}}{\\ell_{\\max }}\n",
    "def compute_quality_2():\n",
    "    quality = []\n",
    "    for i in range(t.shape[0]):\n",
    "        rin = compute_inscribed_sphere(v[t[i,0],:], v[t[i,1],:], v[t[i,2],:], v[t[i,3],:])[1]\n",
    "        lmax = find_longest_edge(v[t[i,0],:], v[t[i,1],:], v[t[i,2],:], v[t[i,3],:])\n",
    "        errors.append(2*np.sqrt(6)*rin/lmax)\n",
    "    return np.array(quality)\n",
    "\n",
    "# these are optional    \n",
    "# def compute_quality_3():\n",
    "    \n",
    "\n",
    "# def compute_quality_4():\n",
    "   "
   ]
  },
  {
   "attachments": {},
   "cell_type": "markdown",
   "metadata": {
    "pycharm": {
     "name": "#%% md\n"
    }
   },
   "source": [
    "Finally we can create a function that iterates over all tetrahedra in a mesh, compute quality measures for each tetrahedron and make histograms of the measures"
   ]
  },
  {
   "cell_type": "code",
   "execution_count": null,
   "metadata": {
    "pycharm": {
     "name": "#%%\n"
    }
   },
   "outputs": [],
   "source": [
    "# TODO - create a tool for plotting quality historgrams\n",
    "\n",
    "def plot_quality_histograms(vertices, tets):\n",
    "    quality = compute_quality_1(vertices, tets)\n",
    "    # TODO - plot a histogram of the quality values and range is 0-1\n",
    "    plt.hist(quality, bins=100, range=(0,1))\n",
    "    \n"
   ]
  },
  {
   "attachments": {},
   "cell_type": "markdown",
   "metadata": {
    "pycharm": {
     "name": "#%% md\n"
    }
   },
   "source": [
    "# Reading Surface Mesh from File\n",
    "\n",
    "We want to get some test geometry for making 3D tetrahedral meshes. We will use a popular computer graphics figure for our testing."
   ]
  },
  {
   "cell_type": "code",
   "execution_count": null,
   "metadata": {
    "pycharm": {
     "name": "#%%\n"
    }
   },
   "outputs": [],
   "source": [
    "v, f = igl.read_triangle_mesh(\"armadillo.obj\")\n",
    "mp.plot(v, f, v[:, 0])"
   ]
  },
  {
   "attachments": {},
   "cell_type": "markdown",
   "metadata": {
    "pycharm": {
     "name": "#%% md\n"
    }
   },
   "source": [
    "# Create Volumetric Tetrahedral Mesh from Surface Mesh\n",
    "\n",
    "We can now invoke a meshing routine to get a volume mesh and then visualize it."
   ]
  },
  {
   "cell_type": "code",
   "execution_count": null,
   "metadata": {
    "pycharm": {
     "name": "#%%\n"
    }
   },
   "outputs": [],
   "source": [
    "tetra = wm.Tetrahedralizer(stop_quality=500)\n",
    "tetra.load_mesh(\"armadillo.obj\")\n",
    "tetra.tetrahedralize()\n",
    "V, T = tetra.get_tet_mesh()\n",
    "mp.plot(V, T)"
   ]
  },
  {
   "attachments": {},
   "cell_type": "markdown",
   "metadata": {
    "pycharm": {
     "name": "#%% md\n"
    }
   },
   "source": [
    "# Histograms of Quality Measures from 3D Volume Mesh\n",
    "\n",
    "We now have all pieces in place to make histograms. We can use the histograms to get an idea of the quality of the mesh we have created."
   ]
  },
  {
   "cell_type": "code",
   "execution_count": null,
   "metadata": {
    "pycharm": {
     "name": "#%%\n"
    }
   },
   "outputs": [],
   "source": [
    "plot_quality_histograms(V, T)"
   ]
  },
  {
   "attachments": {},
   "cell_type": "markdown",
   "metadata": {
    "pycharm": {
     "name": "#%% md\n"
    }
   },
   "source": [
    "Just for fun we will play with a few more meshes to see how they behave"
   ]
  },
  {
   "cell_type": "code",
   "execution_count": null,
   "metadata": {
    "pycharm": {
     "name": "#%%\n"
    }
   },
   "outputs": [],
   "source": [
    "tetra = wm.Tetrahedralizer(stop_quality=500)\n",
    "tetra.load_mesh(\"left_brain.stl\")\n",
    "tetra.tetrahedralize()\n",
    "V, T = tetra.get_tet_mesh()\n",
    "mp.plot(V, T)\n",
    "plot_quality_histograms(V, T)"
   ]
  },
  {
   "cell_type": "code",
   "execution_count": null,
   "metadata": {
    "pycharm": {
     "name": "#%%\n"
    }
   },
   "outputs": [],
   "source": [
    "tetra = wm.Tetrahedralizer(stop_quality=500)\n",
    "tetra.load_mesh(\"right_brain.stl\")\n",
    "tetra.tetrahedralize()\n",
    "V, T = tetra.get_tet_mesh()\n",
    "mp.plot(V, T)\n",
    "plot_quality_histograms(V, T)"
   ]
  },
  {
   "attachments": {},
   "cell_type": "markdown",
   "metadata": {
    "pycharm": {
     "name": "#%% md\n"
    }
   },
   "source": [
    "# Marching Triangles"
   ]
  },
  {
   "attachments": {},
   "cell_type": "markdown",
   "metadata": {
    "pycharm": {
     "name": "#%% md\n"
    }
   },
   "source": [
    "We will reuse some of our code from week 2. Particular we need the function that can compute a signed distance field. This is because we want to apply the marching triangle method on a signed distance field."
   ]
  },
  {
   "cell_type": "code",
   "execution_count": 5,
   "metadata": {
    "pycharm": {
     "name": "#%%\n"
    }
   },
   "outputs": [],
   "source": [
    "def vec2(x,y):\n",
    "    return np.array([x,y], dtype=np.float64)\n",
    "\n",
    "\n",
    "def compute_signed_distance(poly, q):\n",
    "    \n",
    "    def is_left(p0, p1, p2):\n",
    "        return (p1[0] - p0[0]) * (p2[1] - p0[1]) - (p2[0] - p0[0]) * (p1[1] - p0[1])\n",
    "\n",
    "    N = poly.shape[0]\n",
    "    d = np.inf\n",
    "\n",
    "    # Compute distance to closest surface point\n",
    "    for i in range(N-1):\n",
    "        a = poly[i, :]    # Point on the surface of polygon p\n",
    "        b = poly[i+1, :]  # Adjacent point on the surface of polygon p\n",
    "        \n",
    "        ba = b - a     # Vector from a to b\n",
    "        bal = np.linalg.norm(ba) # Length of ba vector\n",
    "        if bal == 0:\n",
    "            continue\n",
    "        ban = ba / bal # Normal of the vector from a to b\n",
    "        qa = q - a     # The vector from the query point to a\n",
    "        alpha = np.dot(qa, ban) / bal\n",
    "        if alpha < 0:\n",
    "            da = np.linalg.norm(q-a)\n",
    "            if da < d:\n",
    "                d = da\n",
    "        elif alpha > 1:\n",
    "            db = np.linalg.norm(q-b)\n",
    "            if db < d:\n",
    "                d = db\n",
    "        else:\n",
    "            banp = np.array([-ban[1], ban[0]])\n",
    "            dp = abs(np.dot(qa, banp))\n",
    "            if dp < d:\n",
    "                d = dp\n",
    "    # Compute winding number to set the sign\n",
    "    wn = 0\n",
    "    for i in range(N-1):\n",
    "        a = poly[i, :]    # Point on the surface of polygon p\n",
    "        b = poly[i+1, :]  # Adjacent point on the surface of polygon p\n",
    "        if a[1] <= q[1]:\n",
    "            if b[1] > q[1]:\n",
    "                if is_left(a, b, q) > 0:\n",
    "                    wn = wn + 1\n",
    "        else:\n",
    "            if b[1] <= q[1]:\n",
    "                if is_left(a, b, q) < 0:\n",
    "                    wn = wn -1\n",
    "    if wn < -0.5:\n",
    "        d = -d\n",
    "    elif wn > 0.5:\n",
    "        d = -d\n",
    "    return d"
   ]
  },
  {
   "attachments": {},
   "cell_type": "markdown",
   "metadata": {
    "pycharm": {
     "name": "#%% md\n"
    }
   },
   "source": [
    "The marching triangles method creates a regular background grid and then evaluates the signed distance field value at all grid points. Hereafer each cell is visited iteratively. The cell is cut into two triangles and each triangle is investigated. The triangle vertex order are shuffled such that all interior vertices comes first. \n",
    "\n",
    "We may now analyse the triangle case by assigning a case number to the triangle from a binary mask created from its inside-outside pattern of the vertices. The case number identifies a stencil for how to \"cut\" the triangle and generate triangles that covers the interior of the distance field."
   ]
  },
  {
   "cell_type": "code",
   "execution_count": null,
   "metadata": {},
   "outputs": [],
   "source": [
    "def intersect(poly,insidep,outsidep):\n",
    "    # return the intersect point of the line segment from insidep to outsidep with the polygon poly\n",
    "    d1 = compute_signed_distance(poly, insidep)\n",
    "    d2 = compute_signed_distance(poly, outsidep)\n",
    "    dist = d2 - d1\n",
    "    coef = - d1 / dist\n",
    "    intersectp = insidep + coef * (outsidep - insidep)\n",
    "    return intersectp\n",
    "\n",
    "def one_outside(poly,p1,p2,p3):\n",
    "    intera1 = intersect(poly,p2,p1)\n",
    "    intera2 = intersect(poly,p3,p1)\n",
    "    return intera1,intera2\n",
    "\n",
    "def two_outside(poly,p1,p2,p3):\n",
    "    intera1 = intersect(poly,p3,p1)\n",
    "    intera2 = intersect(poly,p3,p2)\n",
    "    return intera1,intera2"
   ]
  },
  {
   "cell_type": "code",
   "execution_count": null,
   "metadata": {
    "pycharm": {
     "name": "#%%\n"
    }
   },
   "outputs": [],
   "source": [
    "def is_inside(poly,p):\n",
    "    # return true if p is inside the polygon poly\n",
    "    d = compute_signed_distance(poly, p)\n",
    "    if d < 0:\n",
    "        return True\n",
    "    else:\n",
    "        return False\n",
    "def marching_triangles(poly, I, J):\n",
    "    #TODO - implement the marching triangles method (as described in Slides 6)\n",
    "    V, T = make_beam_mesh(2.0,2.0,(I, J))\n",
    "    X = V[:, 0]\n",
    "    Y = V[:, 1]\n",
    "    count = 0\n",
    "    v = np.empty((0,2),dtype=np.float64)\n",
    "    t = np.empty((0,3),dtype=np.intc)\n",
    "    for elm in T:\n",
    "        p1 = np.array([X[elm[0]], Y[elm[0]]])\n",
    "        p2 = np.array([X[elm[1]], Y[elm[1]]])\n",
    "        p3 = np.array([X[elm[2]], Y[elm[2]]])\n",
    "        inside1 = is_inside(poly, p1)\n",
    "        inside2 = is_inside(poly, p2)\n",
    "        inside3 = is_inside(poly, p3)\n",
    "        if inside1 and inside2 and inside3: # three nodes inside\n",
    "            v = np.append(v, [p1, p2, p3], axis=0)\n",
    "            t = np.append(t, [[count, count+1, count+2]], axis=0)\n",
    "            count += 3\n",
    "        elif inside1 and inside2:# first and second node inside\n",
    "            intersect1, intersect2 = one_outside(poly, p3, p1, p2)\n",
    "            v = np.append(v, [intersect1, intersect2, p2], axis=0)\n",
    "            t = np.append(t, [[count, count+1, count+2]], axis=0)\n",
    "            count += 3\n",
    "            v = np.append(v, [p1, p2, intersect1], axis=0)\n",
    "            t = np.append(t, [[count, count+1, count+2]], axis=0)\n",
    "            count += 3\n",
    "        elif inside2 and inside3: # second and third node inside\n",
    "            intersect1, intersect2 = one_outside(poly, p2, p3, p1)\n",
    "            v = np.append(v, [intersect1, intersect2, p2], axis=0)\n",
    "            t = np.append(t, [[count, count+1, count+2]], axis=0)\n",
    "            count += 3\n",
    "            v = np.append(v, [intersect2, p2, p3], axis=0)\n",
    "            t = np.append(t, [[count, count+1, count+2]], axis=0)\n",
    "            count += 3\n",
    "        elif inside1 and inside3:\n",
    "            intersect1, intersect2 = one_outside(poly, p2, p1, p3)\n",
    "            v = np.append(v, [intersect1, intersect2, p1], axis=0)\n",
    "            t = np.append(t, [[count, count+1, count+2]], axis=0)\n",
    "            count += 3\n",
    "            v = np.append(v, [p1, intersect2, p3], axis=0)\n",
    "            t = np.append(t, [[count, count+1, count+2]], axis=0)\n",
    "            count += 3\n",
    "        elif inside1: # first node inside\n",
    "            intersect1, intersect2 = two_outside(poly, p3, p2, p1)\n",
    "            v = np.append(v, [intersect1, intersect2, p1], axis=0)\n",
    "            t = np.append(t, [[count, count+1, count+2]], axis=0)\n",
    "            count += 3\n",
    "        elif inside2: # second node inside\n",
    "            intersect1, intersect2 = two_outside(poly, p1, p3, p2)\n",
    "            v = np.append(v, [intersect1, intersect2, p2], axis=0)\n",
    "            t = np.append(t, [[count, count+1, count+2]], axis=0)\n",
    "            count += 3\n",
    "        elif inside3: # third node inside\n",
    "            intersect1, intersect2 = two_outside(poly, p1, p2, p3)\n",
    "            v = np.append(v, [intersect1, intersect2, p3], axis=0)\n",
    "            t = np.append(t, [[count, count+1, count+2]], axis=0)\n",
    "            count += 3\n",
    "        else:\n",
    "            continue\n",
    "    return v, t"
   ]
  },
  {
   "attachments": {},
   "cell_type": "markdown",
   "metadata": {
    "pycharm": {
     "name": "#%% md\n"
    }
   },
   "source": [
    "We may now apply the marching triangle to a test problem"
   ]
  },
  {
   "cell_type": "code",
   "execution_count": 6,
   "metadata": {
    "pycharm": {
     "name": "#%%\n"
    }
   },
   "outputs": [
    {
     "ename": "ModuleNotFoundError",
     "evalue": "No module named 'triangle'",
     "output_type": "error",
     "traceback": [
      "\u001b[0;31m---------------------------------------------------------------------------\u001b[0m",
      "\u001b[0;31mModuleNotFoundError\u001b[0m                       Traceback (most recent call last)",
      "Cell \u001b[0;32mIn[6], line 16\u001b[0m\n\u001b[1;32m     13\u001b[0m \u001b[39mimport\u001b[39;00m \u001b[39mmatplotlib\u001b[39;00m\u001b[39m.\u001b[39;00m\u001b[39mpyplot\u001b[39;00m \u001b[39mas\u001b[39;00m \u001b[39mplt\u001b[39;00m\n\u001b[1;32m     14\u001b[0m \u001b[39mimport\u001b[39;00m \u001b[39mnumpy\u001b[39;00m \u001b[39mas\u001b[39;00m \u001b[39mnp\u001b[39;00m\n\u001b[0;32m---> 16\u001b[0m \u001b[39mimport\u001b[39;00m \u001b[39mtriangle\u001b[39;00m \u001b[39mas\u001b[39;00m \u001b[39mtr\u001b[39;00m\n\u001b[1;32m     18\u001b[0m B \u001b[39m=\u001b[39m tr\u001b[39m.\u001b[39mtriangulate(poly, \u001b[39m'\u001b[39m\u001b[39mqa0.01\u001b[39m\u001b[39m'\u001b[39m)\n\u001b[1;32m     19\u001b[0m tr\u001b[39m.\u001b[39mcompare(plt, A, B)\n",
      "\u001b[0;31mModuleNotFoundError\u001b[0m: No module named 'triangle'"
     ]
    }
   ],
   "source": [
    "poly = np.zeros((9,2),dtype=np.float64)\n",
    "poly[0,:] = vec2(-1,-1)\n",
    "poly[1,:] = vec2(-0.5,-1)\n",
    "poly[2,:] = vec2(-0.5,0.5)\n",
    "poly[3,:] = vec2(0.5,0.5)\n",
    "poly[4,:] = vec2(0.5,-1)\n",
    "poly[5,:] = vec2( 1,-1)\n",
    "poly[6,:] = vec2( 1, 1)\n",
    "poly[7,:] = vec2(-1, 1)\n",
    "poly[8,:] = vec2(-1,-1)\n",
    "\n",
    "# v, f = marching_triangles(poly, 15, 15)\n",
    "import matplotlib.pyplot as plt\n",
    "import numpy as np\n",
    "\n",
    "import triangle as tr\n",
    "\n",
    "B = tr.triangulate(poly, 'qa0.01')\n",
    "tr.compare(plt, A, B)\n",
    "plt.show()\n",
    "\n",
    "# fig = plt.figure()\n",
    "# plt.plot(poly[:,0],poly[:,1])\n",
    "# plt.triplot(v[:,0], v[:,1], f)\n",
    "# plt.show()"
   ]
  },
  {
   "attachments": {},
   "cell_type": "markdown",
   "metadata": {
    "pycharm": {
     "name": "#%% md\n"
    }
   },
   "source": [
    "We may observe several issues with the current implementation. Particular at corners we can see sampling side effects. The method can be fooled to believe the whole area of a triangle is part of the inside if all vertices are inside. Likewise it can be fooled to think a triangle is completely outside if none of the vertices are interior. For instance the in the case of the polygon overlapping only one edge of the triangle.\n",
    "\n",
    "Besides these sampling artefacts we may also note that the current implementation generates redundant vertices. When a triangle is cut by the zero-level set then the intersection points that is computed are not re-used when dealing with neighboring triangles that share the same intersection points."
   ]
  },
  {
   "attachments": {},
   "cell_type": "markdown",
   "metadata": {
    "pycharm": {
     "name": "#%% md\n"
    }
   },
   "source": [
    "That is it folks!"
   ]
  }
 ],
 "metadata": {
  "kernelspec": {
   "display_name": "Python 3",
   "language": "python",
   "name": "python3"
  },
  "language_info": {
   "codemirror_mode": {
    "name": "ipython",
    "version": 3
   },
   "file_extension": ".py",
   "mimetype": "text/x-python",
   "name": "python",
   "nbconvert_exporter": "python",
   "pygments_lexer": "ipython3",
   "version": "3.10.9"
  }
 },
 "nbformat": 4,
 "nbformat_minor": 2
}
